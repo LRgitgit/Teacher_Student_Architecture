{
 "cells": [
  {
   "cell_type": "code",
   "execution_count": 5,
   "id": "85201f42",
   "metadata": {},
   "outputs": [],
   "source": [
    "import torch\n",
    "import torch.nn as nn\n",
    "import torch.optim as optim\n",
    "import torchvision\n",
    "import torchvision.models as models\n",
    "import torchvision.transforms as transforms\n",
    "import torchvision.datasets as datasets\n",
    "from torch.utils.data import DataLoader\n",
    "import matplotlib.pyplot as plt"
   ]
  },
  {
   "cell_type": "code",
   "execution_count": 2,
   "id": "201a50ac",
   "metadata": {},
   "outputs": [
    {
     "name": "stdout",
     "output_type": "stream",
     "text": [
      "Downloading https://www.cs.toronto.edu/~kriz/cifar-10-python.tar.gz to data\\cifar-10-python.tar.gz\n"
     ]
    },
    {
     "data": {
      "application/vnd.jupyter.widget-view+json": {
       "model_id": "e8ff897da8814edb915a6d229d58b75c",
       "version_major": 2,
       "version_minor": 0
      },
      "text/plain": [
       "  0%|          | 0/170498071 [00:00<?, ?it/s]"
      ]
     },
     "metadata": {},
     "output_type": "display_data"
    },
    {
     "name": "stdout",
     "output_type": "stream",
     "text": [
      "Extracting data\\cifar-10-python.tar.gz to data\n"
     ]
    }
   ],
   "source": [
    "# Chargement des données CIFAR-10\n",
    "train_dataset = datasets.CIFAR10(root='data', train=True, transform=transforms.ToTensor(), download=True)\n",
    "train_loader = DataLoader(train_dataset, batch_size=32, shuffle=True)"
   ]
  },
  {
   "cell_type": "code",
   "execution_count": null,
   "id": "77414ce7",
   "metadata": {},
   "outputs": [],
   "source": [
    "\n",
    "#Lancer le script et voir l'utilisation GPU pour s'assurer qu'il est utilisé\n",
    "if torch.cuda.is_available() : \n",
    "    device = torch.device(\"cuda\") #A mettre partout \n",
    "else : \n",
    "    device = torch.device(\"cpu\")\n",
    "\n",
    "#Il faut ensuite mettre l'argument device = device / to_device à la création des tenseurs et pendant leur utilisatio"
   ]
  },
  {
   "cell_type": "code",
   "execution_count": 3,
   "id": "ab0c80b8",
   "metadata": {},
   "outputs": [],
   "source": [
    "# Fonction de perte pour l'apprentissage de l'élève avec knowledge distillation\n",
    "def distillation_loss(student_outputs, teacher_outputs, labels, temperature):\n",
    "    soft_labels = nn.functional.softmax(teacher_outputs / temperature, dim=1)\n",
    "    #Proposition de chatGPT, je suis quasiment sûr que la formule correpsond pas à celle de l'article, il faudra la modifier\n",
    "    return nn.KLDivLoss()(nn.functional.log_softmax(outputs / temperature, dim=1), soft_labels) * (temperature ** 2)"
   ]
  },
  {
   "cell_type": "code",
   "execution_count": 8,
   "id": "fb9be1fe",
   "metadata": {},
   "outputs": [
    {
     "name": "stderr",
     "output_type": "stream",
     "text": [
      "Downloading: \"https://download.pytorch.org/models/resnet50-11ad3fa6.pth\" to C:\\Users\\prje/.cache\\torch\\hub\\checkpoints\\resnet50-11ad3fa6.pth\n"
     ]
    },
    {
     "data": {
      "application/vnd.jupyter.widget-view+json": {
       "model_id": "9cfc491e699e4f57a74db388f63f3360",
       "version_major": 2,
       "version_minor": 0
      },
      "text/plain": [
       "  0%|          | 0.00/97.8M [00:00<?, ?B/s]"
      ]
     },
     "metadata": {},
     "output_type": "display_data"
    }
   ],
   "source": [
    "#Entraînement du teacher_model à partir de poids pré-entraînés pour essayer de gagner du temps\n",
    "teacher_model = models.resnet50(weights=models.ResNet50_Weights.DEFAULT)\n",
    "num_ftrs = teacher_model.fc.in_features\n",
    "teacher_model.fc = nn.Linear(num_ftrs, 10)\n",
    "criterion = nn.CrossEntropyLoss()\n",
    "optimizer = optim.SGD(teacher_model.parameters(), lr=0.1, momentum=0.9)"
   ]
  },
  {
   "cell_type": "code",
   "execution_count": null,
   "id": "74b7057b",
   "metadata": {},
   "outputs": [],
   "source": [
    "loss_list = []\n",
    "running_loss_list = []\n",
    "for epoch in range(200):  # Entraînement sur 10 époques\n",
    "    running_loss = 0.0\n",
    "    for i, data in enumerate(train_loader, 0):\n",
    "        inputs, labels = data\n",
    "\n",
    "        optimizer.zero_grad()\n",
    "\n",
    "        outputs = teacher_model(inputs)\n",
    "        loss = criterion(outputs, labels)\n",
    "        loss.backward()\n",
    "        optimizer.step()\n",
    "\n",
    "        running_loss += loss.item()\n",
    "        loss_list.append(loss)\n",
    "        running_loss_list.append(running_loss)\n",
    "\n",
    "    print('Epoch %d, loss: %.3f' %\n",
    "          (epoch + 1, running_loss / len(trainloader)))\n",
    "\n",
    "print('Finished Training')"
   ]
  },
  {
   "cell_type": "code",
   "execution_count": null,
   "id": "c56acc7b",
   "metadata": {},
   "outputs": [],
   "source": [
    "plt.plot([i for i in range(len(loss_list))], loss_list)\n",
    "plt.xlabel(\"Epoch\")\n",
    "plt.ylabel(\"loss\")\n",
    "plt.title(\"Evolution de la loss\")"
   ]
  },
  {
   "cell_type": "code",
   "execution_count": null,
   "id": "51eedc47",
   "metadata": {},
   "outputs": [],
   "source": [
    "plt.plot([i for i in range(len(running_loss_list))], running_loss_list)\n",
    "plt.xlabel(\"Epoch\")\n",
    "plt.ylabel(\"loss\")\n",
    "plt.title(\"Evolution de la running_loss\")"
   ]
  },
  {
   "cell_type": "code",
   "execution_count": null,
   "id": "d7799c48",
   "metadata": {},
   "outputs": [],
   "source": [
    "#Initialisation du modèle élève from scratch\n",
    "teacher_model = models.resnet18(weights=None)\n",
    "num_ftrs = teacher_model.fc.in_features\n",
    "teacher_model.fc = nn.Linear(num_ftrs, 10)\n",
    "criterion = nn.CrossEntropyLoss()\n",
    "optimizer = optim.SGD(teacher_model.parameters(), lr=0.1, momentum=0.9)\n",
    "\n",
    "#Proposition de chatGPT pour l'optimizer\n",
    "#optimizer = optim.Adam(student_model.parameters(), lr=lr)"
   ]
  },
  {
   "cell_type": "code",
   "execution_count": null,
   "id": "66d88017",
   "metadata": {},
   "outputs": [],
   "source": [
    "# Paramètres d'apprentissage\n",
    "num_epochs = 50\n",
    "lr = 0.1\n",
    "temperature = 4"
   ]
  },
  {
   "cell_type": "code",
   "execution_count": null,
   "id": "61d2bb34",
   "metadata": {},
   "outputs": [],
   "source": [
    "# Entraînement du modèle élève avec knowledge distillation\n",
    "student_loss = []\n",
    "student_running_loss_list = []\n",
    "for epoch in range(num_epochs):\n",
    "    student_model.train()\n",
    "    running_loss = 0.0\n",
    "    \n",
    "    for inputs, labels in train_loader:\n",
    "        optimizer.zero_grad()\n",
    "        teacher_outputs = teacher_model(inputs)\n",
    "        student_outputs = student_model(inputs)\n",
    "        loss = distillation_loss(student_outputs, teacher_outputs, labels, temperature) + criterion(student_outputs, labels)\n",
    "        loss.backward()\n",
    "        optimizer.step()\n",
    "        \n",
    "        running_loss += loss.item() * inputs.size(0)\n",
    "        student_loss.append(loss)\n",
    "        student_running_loss_list.append(running_loss)\n",
    "    \n",
    "    epoch_loss = running_loss / len(train_dataset)\n",
    "    print('Epoch {}/{} loss: {:.4f}'.format(epoch+1, num_epochs, epoch_loss))# Entraînement du modèle élève avec knowledge distillation"
   ]
  },
  {
   "cell_type": "code",
   "execution_count": null,
   "id": "e067a764",
   "metadata": {},
   "outputs": [],
   "source": [
    "plt.plot([i for i in range(len(student_loss))], student_loss)\n",
    "plt.xlabel(\"Epoch\")\n",
    "plt.ylabel(\"loss\")\n",
    "plt.title(\"Evolution de la loss de l'étudiant\")"
   ]
  },
  {
   "cell_type": "code",
   "execution_count": null,
   "id": "c7f0b75c",
   "metadata": {},
   "outputs": [],
   "source": [
    "plt.plot([i for i in range(len(student_running_loss_list))], student_running_loss_list)\n",
    "plt.xlabel(\"Epoch\")\n",
    "plt.ylabel(\"loss\")\n",
    "plt.title(\"Evolution de la running_loss\")"
   ]
  }
 ],
 "metadata": {
  "kernelspec": {
   "display_name": "Python 3 (ipykernel)",
   "language": "python",
   "name": "python3"
  },
  "language_info": {
   "codemirror_mode": {
    "name": "ipython",
    "version": 3
   },
   "file_extension": ".py",
   "mimetype": "text/x-python",
   "name": "python",
   "nbconvert_exporter": "python",
   "pygments_lexer": "ipython3",
   "version": "3.9.12"
  }
 },
 "nbformat": 4,
 "nbformat_minor": 5
}
